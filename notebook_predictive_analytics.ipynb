{
  "cells": [
    {
      "cell_type": "markdown",
      "metadata": {
        "id": "C96NoGGUQJXl"
      },
      "source": [
        "# Import Library"
      ]
    },
    {
      "cell_type": "markdown",
      "source": [
        "- gdown: digunakan untuk mengunduh file dari Google Drive menggunakan ID file.\n",
        "- pandas, numpy: pustaka utama untuk manipulasi data dan perhitungan numerik.\n",
        "- matplotlib.pyplot, seaborn: pustaka visualisasi untuk eksplorasi dan analisis data.\n",
        "- datetime: digunakan untuk menangani tipe data waktu.\n",
        "- sklearn: menyediakan alat bantu preprocessing dan metrik evaluasi model ML.\n",
        "- tensorflow.keras: digunakan untuk membangun dan melatih model deep learning berbasis LSTM."
      ],
      "metadata": {
        "id": "Lw7jXb1se3np"
      }
    },
    {
      "cell_type": "code",
      "execution_count": null,
      "metadata": {
        "id": "SBFIryCP68z2"
      },
      "outputs": [],
      "source": [
        "import gdown\n",
        "import pandas as pd\n",
        "import numpy as np\n",
        "import matplotlib.pyplot as plt\n",
        "import seaborn as sns\n",
        "import datetime\n",
        "\n",
        "from sklearn.preprocessing import MinMaxScaler\n",
        "from sklearn.metrics import mean_squared_error, mean_absolute_error, r2_score, root_mean_squared_error\n",
        "from sklearn.linear_model import LinearRegression\n",
        "from sklearn.neighbors import KNeighborsRegressor\n",
        "\n",
        "import tensorflow as tf\n",
        "from tensorflow.keras.models import Sequential\n",
        "from tensorflow.keras.layers import Dense, LSTM"
      ]
    },
    {
      "cell_type": "markdown",
      "metadata": {
        "id": "UVWVz3-NQOCE"
      },
      "source": [
        "# Load Dataset"
      ]
    },
    {
      "cell_type": "markdown",
      "source": [
        "Dataset diunduh dari Google Drive menggunakan gdown dan disimpan sebagai dataset.csv.\n",
        "Kemudian, dataset dibaca ke dalam DataFrame menggunakan pd.read_csv() untuk proses selanjutnya."
      ],
      "metadata": {
        "id": "4ea_nwomeugi"
      }
    },
    {
      "cell_type": "code",
      "execution_count": null,
      "metadata": {
        "colab": {
          "base_uri": "https://localhost:8080/"
        },
        "id": "vH2PSX3O9mDJ",
        "outputId": "9389d681-2f19-4343-ea69-1b3d0e3a8ee2"
      },
      "outputs": [
        {
          "output_type": "stream",
          "name": "stderr",
          "text": [
            "Downloading...\n",
            "From: https://drive.google.com/uc?id=1h7vtc3wEve5Lx9-pVfXEkij1cU-kfYQi\n",
            "To: /content/dataset.csv\n",
            "100%|██████████| 80.4k/80.4k [00:00<00:00, 49.9MB/s]\n"
          ]
        }
      ],
      "source": [
        "#membaca dataset https://drive.google.com/file/d/1h7vtc3wEve5Lx9-pVfXEkij1cU-kfYQi/view?usp=drive_link\n",
        "file_id = \"1h7vtc3wEve5Lx9-pVfXEkij1cU-kfYQi\"\n",
        "url = f\"https://drive.google.com/uc?id={file_id}\"\n",
        "output = \"dataset.csv\"\n",
        "\n",
        "gdown.download(url, output, quiet=False)\n",
        "\n",
        "df = pd.read_csv(output)"
      ]
    },
    {
      "cell_type": "code",
      "execution_count": null,
      "metadata": {
        "colab": {
          "base_uri": "https://localhost:8080/",
          "height": 206
        },
        "id": "T_ZUyIHw-tfr",
        "outputId": "98f07a4b-5e81-46a1-b250-d17dc4cac06d"
      },
      "outputs": [
        {
          "output_type": "execute_result",
          "data": {
            "text/plain": [
              "         Date   Price    Open    High     Low     Vol. Change %\n",
              "0  04/24/2025  106.43  103.47  106.54  103.11  217.19M    3.62%\n",
              "1  04/23/2025  102.71  104.52  104.80  102.02  247.53M    3.86%\n",
              "2  04/22/2025   98.89   98.78   99.81   97.28  241.00M    2.04%\n",
              "3  04/21/2025   96.91   98.77   99.44   95.04  288.50M   -4.51%\n",
              "4  04/17/2025  101.49  104.45  104.47  100.05  292.52M   -2.87%"
            ],
            "text/html": [
              "\n",
              "  <div id=\"df-cea7fe5e-590b-4f4b-99da-ce61b0997a08\" class=\"colab-df-container\">\n",
              "    <div>\n",
              "<style scoped>\n",
              "    .dataframe tbody tr th:only-of-type {\n",
              "        vertical-align: middle;\n",
              "    }\n",
              "\n",
              "    .dataframe tbody tr th {\n",
              "        vertical-align: top;\n",
              "    }\n",
              "\n",
              "    .dataframe thead th {\n",
              "        text-align: right;\n",
              "    }\n",
              "</style>\n",
              "<table border=\"1\" class=\"dataframe\">\n",
              "  <thead>\n",
              "    <tr style=\"text-align: right;\">\n",
              "      <th></th>\n",
              "      <th>Date</th>\n",
              "      <th>Price</th>\n",
              "      <th>Open</th>\n",
              "      <th>High</th>\n",
              "      <th>Low</th>\n",
              "      <th>Vol.</th>\n",
              "      <th>Change %</th>\n",
              "    </tr>\n",
              "  </thead>\n",
              "  <tbody>\n",
              "    <tr>\n",
              "      <th>0</th>\n",
              "      <td>04/24/2025</td>\n",
              "      <td>106.43</td>\n",
              "      <td>103.47</td>\n",
              "      <td>106.54</td>\n",
              "      <td>103.11</td>\n",
              "      <td>217.19M</td>\n",
              "      <td>3.62%</td>\n",
              "    </tr>\n",
              "    <tr>\n",
              "      <th>1</th>\n",
              "      <td>04/23/2025</td>\n",
              "      <td>102.71</td>\n",
              "      <td>104.52</td>\n",
              "      <td>104.80</td>\n",
              "      <td>102.02</td>\n",
              "      <td>247.53M</td>\n",
              "      <td>3.86%</td>\n",
              "    </tr>\n",
              "    <tr>\n",
              "      <th>2</th>\n",
              "      <td>04/22/2025</td>\n",
              "      <td>98.89</td>\n",
              "      <td>98.78</td>\n",
              "      <td>99.81</td>\n",
              "      <td>97.28</td>\n",
              "      <td>241.00M</td>\n",
              "      <td>2.04%</td>\n",
              "    </tr>\n",
              "    <tr>\n",
              "      <th>3</th>\n",
              "      <td>04/21/2025</td>\n",
              "      <td>96.91</td>\n",
              "      <td>98.77</td>\n",
              "      <td>99.44</td>\n",
              "      <td>95.04</td>\n",
              "      <td>288.50M</td>\n",
              "      <td>-4.51%</td>\n",
              "    </tr>\n",
              "    <tr>\n",
              "      <th>4</th>\n",
              "      <td>04/17/2025</td>\n",
              "      <td>101.49</td>\n",
              "      <td>104.45</td>\n",
              "      <td>104.47</td>\n",
              "      <td>100.05</td>\n",
              "      <td>292.52M</td>\n",
              "      <td>-2.87%</td>\n",
              "    </tr>\n",
              "  </tbody>\n",
              "</table>\n",
              "</div>\n",
              "    <div class=\"colab-df-buttons\">\n",
              "\n",
              "  <div class=\"colab-df-container\">\n",
              "    <button class=\"colab-df-convert\" onclick=\"convertToInteractive('df-cea7fe5e-590b-4f4b-99da-ce61b0997a08')\"\n",
              "            title=\"Convert this dataframe to an interactive table.\"\n",
              "            style=\"display:none;\">\n",
              "\n",
              "  <svg xmlns=\"http://www.w3.org/2000/svg\" height=\"24px\" viewBox=\"0 -960 960 960\">\n",
              "    <path d=\"M120-120v-720h720v720H120Zm60-500h600v-160H180v160Zm220 220h160v-160H400v160Zm0 220h160v-160H400v160ZM180-400h160v-160H180v160Zm440 0h160v-160H620v160ZM180-180h160v-160H180v160Zm440 0h160v-160H620v160Z\"/>\n",
              "  </svg>\n",
              "    </button>\n",
              "\n",
              "  <style>\n",
              "    .colab-df-container {\n",
              "      display:flex;\n",
              "      gap: 12px;\n",
              "    }\n",
              "\n",
              "    .colab-df-convert {\n",
              "      background-color: #E8F0FE;\n",
              "      border: none;\n",
              "      border-radius: 50%;\n",
              "      cursor: pointer;\n",
              "      display: none;\n",
              "      fill: #1967D2;\n",
              "      height: 32px;\n",
              "      padding: 0 0 0 0;\n",
              "      width: 32px;\n",
              "    }\n",
              "\n",
              "    .colab-df-convert:hover {\n",
              "      background-color: #E2EBFA;\n",
              "      box-shadow: 0px 1px 2px rgba(60, 64, 67, 0.3), 0px 1px 3px 1px rgba(60, 64, 67, 0.15);\n",
              "      fill: #174EA6;\n",
              "    }\n",
              "\n",
              "    .colab-df-buttons div {\n",
              "      margin-bottom: 4px;\n",
              "    }\n",
              "\n",
              "    [theme=dark] .colab-df-convert {\n",
              "      background-color: #3B4455;\n",
              "      fill: #D2E3FC;\n",
              "    }\n",
              "\n",
              "    [theme=dark] .colab-df-convert:hover {\n",
              "      background-color: #434B5C;\n",
              "      box-shadow: 0px 1px 3px 1px rgba(0, 0, 0, 0.15);\n",
              "      filter: drop-shadow(0px 1px 2px rgba(0, 0, 0, 0.3));\n",
              "      fill: #FFFFFF;\n",
              "    }\n",
              "  </style>\n",
              "\n",
              "    <script>\n",
              "      const buttonEl =\n",
              "        document.querySelector('#df-cea7fe5e-590b-4f4b-99da-ce61b0997a08 button.colab-df-convert');\n",
              "      buttonEl.style.display =\n",
              "        google.colab.kernel.accessAllowed ? 'block' : 'none';\n",
              "\n",
              "      async function convertToInteractive(key) {\n",
              "        const element = document.querySelector('#df-cea7fe5e-590b-4f4b-99da-ce61b0997a08');\n",
              "        const dataTable =\n",
              "          await google.colab.kernel.invokeFunction('convertToInteractive',\n",
              "                                                    [key], {});\n",
              "        if (!dataTable) return;\n",
              "\n",
              "        const docLinkHtml = 'Like what you see? Visit the ' +\n",
              "          '<a target=\"_blank\" href=https://colab.research.google.com/notebooks/data_table.ipynb>data table notebook</a>'\n",
              "          + ' to learn more about interactive tables.';\n",
              "        element.innerHTML = '';\n",
              "        dataTable['output_type'] = 'display_data';\n",
              "        await google.colab.output.renderOutput(dataTable, element);\n",
              "        const docLink = document.createElement('div');\n",
              "        docLink.innerHTML = docLinkHtml;\n",
              "        element.appendChild(docLink);\n",
              "      }\n",
              "    </script>\n",
              "  </div>\n",
              "\n",
              "\n",
              "    <div id=\"df-28fd7eeb-6ed6-4ec3-8327-e0d4d5caf0f4\">\n",
              "      <button class=\"colab-df-quickchart\" onclick=\"quickchart('df-28fd7eeb-6ed6-4ec3-8327-e0d4d5caf0f4')\"\n",
              "                title=\"Suggest charts\"\n",
              "                style=\"display:none;\">\n",
              "\n",
              "<svg xmlns=\"http://www.w3.org/2000/svg\" height=\"24px\"viewBox=\"0 0 24 24\"\n",
              "     width=\"24px\">\n",
              "    <g>\n",
              "        <path d=\"M19 3H5c-1.1 0-2 .9-2 2v14c0 1.1.9 2 2 2h14c1.1 0 2-.9 2-2V5c0-1.1-.9-2-2-2zM9 17H7v-7h2v7zm4 0h-2V7h2v10zm4 0h-2v-4h2v4z\"/>\n",
              "    </g>\n",
              "</svg>\n",
              "      </button>\n",
              "\n",
              "<style>\n",
              "  .colab-df-quickchart {\n",
              "      --bg-color: #E8F0FE;\n",
              "      --fill-color: #1967D2;\n",
              "      --hover-bg-color: #E2EBFA;\n",
              "      --hover-fill-color: #174EA6;\n",
              "      --disabled-fill-color: #AAA;\n",
              "      --disabled-bg-color: #DDD;\n",
              "  }\n",
              "\n",
              "  [theme=dark] .colab-df-quickchart {\n",
              "      --bg-color: #3B4455;\n",
              "      --fill-color: #D2E3FC;\n",
              "      --hover-bg-color: #434B5C;\n",
              "      --hover-fill-color: #FFFFFF;\n",
              "      --disabled-bg-color: #3B4455;\n",
              "      --disabled-fill-color: #666;\n",
              "  }\n",
              "\n",
              "  .colab-df-quickchart {\n",
              "    background-color: var(--bg-color);\n",
              "    border: none;\n",
              "    border-radius: 50%;\n",
              "    cursor: pointer;\n",
              "    display: none;\n",
              "    fill: var(--fill-color);\n",
              "    height: 32px;\n",
              "    padding: 0;\n",
              "    width: 32px;\n",
              "  }\n",
              "\n",
              "  .colab-df-quickchart:hover {\n",
              "    background-color: var(--hover-bg-color);\n",
              "    box-shadow: 0 1px 2px rgba(60, 64, 67, 0.3), 0 1px 3px 1px rgba(60, 64, 67, 0.15);\n",
              "    fill: var(--button-hover-fill-color);\n",
              "  }\n",
              "\n",
              "  .colab-df-quickchart-complete:disabled,\n",
              "  .colab-df-quickchart-complete:disabled:hover {\n",
              "    background-color: var(--disabled-bg-color);\n",
              "    fill: var(--disabled-fill-color);\n",
              "    box-shadow: none;\n",
              "  }\n",
              "\n",
              "  .colab-df-spinner {\n",
              "    border: 2px solid var(--fill-color);\n",
              "    border-color: transparent;\n",
              "    border-bottom-color: var(--fill-color);\n",
              "    animation:\n",
              "      spin 1s steps(1) infinite;\n",
              "  }\n",
              "\n",
              "  @keyframes spin {\n",
              "    0% {\n",
              "      border-color: transparent;\n",
              "      border-bottom-color: var(--fill-color);\n",
              "      border-left-color: var(--fill-color);\n",
              "    }\n",
              "    20% {\n",
              "      border-color: transparent;\n",
              "      border-left-color: var(--fill-color);\n",
              "      border-top-color: var(--fill-color);\n",
              "    }\n",
              "    30% {\n",
              "      border-color: transparent;\n",
              "      border-left-color: var(--fill-color);\n",
              "      border-top-color: var(--fill-color);\n",
              "      border-right-color: var(--fill-color);\n",
              "    }\n",
              "    40% {\n",
              "      border-color: transparent;\n",
              "      border-right-color: var(--fill-color);\n",
              "      border-top-color: var(--fill-color);\n",
              "    }\n",
              "    60% {\n",
              "      border-color: transparent;\n",
              "      border-right-color: var(--fill-color);\n",
              "    }\n",
              "    80% {\n",
              "      border-color: transparent;\n",
              "      border-right-color: var(--fill-color);\n",
              "      border-bottom-color: var(--fill-color);\n",
              "    }\n",
              "    90% {\n",
              "      border-color: transparent;\n",
              "      border-bottom-color: var(--fill-color);\n",
              "    }\n",
              "  }\n",
              "</style>\n",
              "\n",
              "      <script>\n",
              "        async function quickchart(key) {\n",
              "          const quickchartButtonEl =\n",
              "            document.querySelector('#' + key + ' button');\n",
              "          quickchartButtonEl.disabled = true;  // To prevent multiple clicks.\n",
              "          quickchartButtonEl.classList.add('colab-df-spinner');\n",
              "          try {\n",
              "            const charts = await google.colab.kernel.invokeFunction(\n",
              "                'suggestCharts', [key], {});\n",
              "          } catch (error) {\n",
              "            console.error('Error during call to suggestCharts:', error);\n",
              "          }\n",
              "          quickchartButtonEl.classList.remove('colab-df-spinner');\n",
              "          quickchartButtonEl.classList.add('colab-df-quickchart-complete');\n",
              "        }\n",
              "        (() => {\n",
              "          let quickchartButtonEl =\n",
              "            document.querySelector('#df-28fd7eeb-6ed6-4ec3-8327-e0d4d5caf0f4 button');\n",
              "          quickchartButtonEl.style.display =\n",
              "            google.colab.kernel.accessAllowed ? 'block' : 'none';\n",
              "        })();\n",
              "      </script>\n",
              "    </div>\n",
              "\n",
              "    </div>\n",
              "  </div>\n"
            ],
            "application/vnd.google.colaboratory.intrinsic+json": {
              "type": "dataframe",
              "variable_name": "df",
              "summary": "{\n  \"name\": \"df\",\n  \"rows\": 1256,\n  \"fields\": [\n    {\n      \"column\": \"Date\",\n      \"properties\": {\n        \"dtype\": \"object\",\n        \"num_unique_values\": 1256,\n        \"samples\": [\n          \"07/31/2023\",\n          \"11/25/2024\",\n          \"02/10/2025\"\n        ],\n        \"semantic_type\": \"\",\n        \"description\": \"\"\n      }\n    },\n    {\n      \"column\": \"Price\",\n      \"properties\": {\n        \"dtype\": \"number\",\n        \"std\": 42.266456460794416,\n        \"min\": 7.07,\n        \"max\": 149.43,\n        \"num_unique_values\": 1089,\n        \"samples\": [\n          45.96,\n          116.66,\n          28.68\n        ],\n        \"semantic_type\": \"\",\n        \"description\": \"\"\n      }\n    },\n    {\n      \"column\": \"Open\",\n      \"properties\": {\n        \"dtype\": \"number\",\n        \"std\": 42.35557960674872,\n        \"min\": 7.02,\n        \"max\": 153.03,\n        \"num_unique_values\": 1101,\n        \"samples\": [\n          47.63,\n          18.98,\n          42.16\n        ],\n        \"semantic_type\": \"\",\n        \"description\": \"\"\n      }\n    },\n    {\n      \"column\": \"High\",\n      \"properties\": {\n        \"dtype\": \"number\",\n        \"std\": 43.11859718530162,\n        \"min\": 7.22,\n        \"max\": 153.13,\n        \"num_unique_values\": 1100,\n        \"samples\": [\n          49.1,\n          19.05,\n          45.27\n        ],\n        \"semantic_type\": \"\",\n        \"description\": \"\"\n      }\n    },\n    {\n      \"column\": \"Low\",\n      \"properties\": {\n        \"dtype\": \"number\",\n        \"std\": 41.383800833970405,\n        \"min\": 7.02,\n        \"max\": 147.82,\n        \"num_unique_values\": 1085,\n        \"samples\": [\n          23.98,\n          119.19,\n          11.57\n        ],\n        \"semantic_type\": \"\",\n        \"description\": \"\"\n      }\n    },\n    {\n      \"column\": \"Vol.\",\n      \"properties\": {\n        \"dtype\": \"string\",\n        \"num_unique_values\": 1244,\n        \"samples\": [\n          \"389.64M\",\n          \"698.68M\",\n          \"668.26M\"\n        ],\n        \"semantic_type\": \"\",\n        \"description\": \"\"\n      }\n    },\n    {\n      \"column\": \"Change %\",\n      \"properties\": {\n        \"dtype\": \"string\",\n        \"num_unique_values\": 780,\n        \"samples\": [\n          \"9.19%\",\n          \"-6.93%\",\n          \"-5.95%\"\n        ],\n        \"semantic_type\": \"\",\n        \"description\": \"\"\n      }\n    }\n  ]\n}"
            }
          },
          "metadata": {},
          "execution_count": 4
        }
      ],
      "source": [
        "df.head()"
      ]
    },
    {
      "cell_type": "markdown",
      "metadata": {
        "id": "oZqwdBlPQXp0"
      },
      "source": [
        "# Preprocessing Data"
      ]
    },
    {
      "cell_type": "code",
      "execution_count": null,
      "metadata": {
        "colab": {
          "base_uri": "https://localhost:8080/"
        },
        "id": "MlkCOKXbPmzZ",
        "outputId": "84fb3263-b5f0-4be2-e3ee-d725383598b2"
      },
      "outputs": [
        {
          "output_type": "stream",
          "name": "stdout",
          "text": [
            "<class 'pandas.core.frame.DataFrame'>\n",
            "RangeIndex: 1256 entries, 0 to 1255\n",
            "Data columns (total 7 columns):\n",
            " #   Column    Non-Null Count  Dtype  \n",
            "---  ------    --------------  -----  \n",
            " 0   Date      1256 non-null   object \n",
            " 1   Price     1256 non-null   float64\n",
            " 2   Open      1256 non-null   float64\n",
            " 3   High      1256 non-null   float64\n",
            " 4   Low       1256 non-null   float64\n",
            " 5   Vol.      1256 non-null   object \n",
            " 6   Change %  1256 non-null   object \n",
            "dtypes: float64(4), object(3)\n",
            "memory usage: 68.8+ KB\n"
          ]
        }
      ],
      "source": [
        "df.info()"
      ]
    },
    {
      "cell_type": "code",
      "execution_count": null,
      "metadata": {
        "id": "bIm8Uvw0P6qO"
      },
      "outputs": [],
      "source": [
        "df['Date'] = pd.to_datetime(df['Date'])"
      ]
    },
    {
      "cell_type": "markdown",
      "source": [
        "untuk mengonversi kolom tanggal (Date) menjadi format datetime, sehingga lebih mudah diolah saat analisis waktu atau visualisasi."
      ],
      "metadata": {
        "id": "heFJsWGXfEeY"
      }
    },
    {
      "cell_type": "code",
      "execution_count": null,
      "metadata": {
        "id": "ndwqr_sDQBc-"
      },
      "outputs": [],
      "source": [
        "def parse_volume(vol):\n",
        "    vol = vol.replace(',', '').strip()\n",
        "    if 'B' in vol:\n",
        "        return float(vol.replace('B', '')) * 1_000_000_000\n",
        "    elif 'M' in vol:\n",
        "        return float(vol.replace('M', '')) * 1_000_000\n",
        "    else:\n",
        "        return float(vol)  # fallback kalau tanpa simbol\n",
        "\n",
        "df['Vol.'] = df['Vol.'].astype(str).apply(parse_volume)\n",
        "\n",
        "# Bersihkan kolom 'Change %'\n",
        "df['Change %'] = df['Change %'].str.replace('%', '').astype(float)"
      ]
    },
    {
      "cell_type": "markdown",
      "source": [
        "1. Membersihkan dan mengonversi kolom volume (Vol.):\n",
        "- Menghapus koma (,) dan satuan volume seperti 'B' (billion) dan 'M' (million).\n",
        "- Mengubah string menjadi nilai numerik dalam satuan standar.\n",
        "\n",
        "2. Menghapus simbol persen (%) dari kolom Change % dan mengonversinya ke tipe data float."
      ],
      "metadata": {
        "id": "DbN4FuVKfJ7t"
      }
    },
    {
      "cell_type": "code",
      "execution_count": null,
      "metadata": {
        "id": "rSWWI-3C5_e-"
      },
      "outputs": [],
      "source": [
        "X_lr = df[['Open', 'High', 'Low', 'Vol.']]\n",
        "y_lr = df['Price']"
      ]
    },
    {
      "cell_type": "markdown",
      "source": [
        "1. X_lr adalah variabel independen atau fitur yang digunakan untuk memprediksi harga saham. Fitur yang dipilih adalah:\n",
        "- Open: harga pembukaan saham\n",
        "- High: harga tertinggi dalam sehari\n",
        "- Low: harga terendah dalam sehari\n",
        "- Vol.: volume transaksi\n",
        "\n",
        "2. y_lr adalah variabel target atau harga saham (Price) yang ingin diprediksi."
      ],
      "metadata": {
        "id": "_CI_jNDDf0aI"
      }
    },
    {
      "cell_type": "code",
      "source": [
        "# Normalisasi fitur\n",
        "scaler_knn = MinMaxScaler()\n",
        "X_knn_scaled = scaler_knn.fit_transform(X_lr)"
      ],
      "metadata": {
        "id": "eEOJfxxXVqBN"
      },
      "execution_count": null,
      "outputs": []
    },
    {
      "cell_type": "markdown",
      "metadata": {
        "id": "v_2T2i33Qkt1"
      },
      "source": [
        "# Exploratory Data Analysis"
      ]
    },
    {
      "cell_type": "code",
      "execution_count": null,
      "metadata": {
        "colab": {
          "base_uri": "https://localhost:8080/",
          "height": 561
        },
        "id": "QGTW_YXIrf_7",
        "outputId": "982c79b8-58a4-4a83-f676-336bebed4ba4"
      },
      "outputs": [
        {
          "output_type": "stream",
          "name": "stdout",
          "text": [
            "<class 'pandas.core.frame.DataFrame'>\n",
            "RangeIndex: 1256 entries, 0 to 1255\n",
            "Data columns (total 7 columns):\n",
            " #   Column    Non-Null Count  Dtype         \n",
            "---  ------    --------------  -----         \n",
            " 0   Date      1256 non-null   datetime64[ns]\n",
            " 1   Price     1256 non-null   float64       \n",
            " 2   Open      1256 non-null   float64       \n",
            " 3   High      1256 non-null   float64       \n",
            " 4   Low       1256 non-null   float64       \n",
            " 5   Vol.      1256 non-null   float64       \n",
            " 6   Change %  1256 non-null   float64       \n",
            "dtypes: datetime64[ns](1), float64(6)\n",
            "memory usage: 68.8 KB\n"
          ]
        },
        {
          "output_type": "execute_result",
          "data": {
            "text/plain": [
              "                                Date        Price         Open         High  \\\n",
              "count                           1256  1256.000000  1256.000000  1256.000000   \n",
              "mean   2022-10-23 00:12:36.687898112    45.598646    45.618065    46.479339   \n",
              "min              2020-04-27 00:00:00     7.070000     7.020000     7.220000   \n",
              "25%              2021-07-25 06:00:00    15.005000    15.042500    15.312500   \n",
              "50%              2022-10-20 12:00:00    23.730000    23.740000    24.270000   \n",
              "75%              2024-01-23 06:00:00    60.160000    60.112500    60.692500   \n",
              "max              2025-04-24 00:00:00   149.430000   153.030000   153.130000   \n",
              "std                              NaN    42.266456    42.355580    43.118597   \n",
              "\n",
              "               Low          Vol.     Change %  \n",
              "count  1256.000000  1.256000e+03  1256.000000  \n",
              "mean     44.646385  4.312259e+08     0.269490  \n",
              "min       7.020000  9.788000e+07   -16.970000  \n",
              "25%      14.780000  2.964900e+08    -1.622500  \n",
              "50%      23.310000  4.096200e+08     0.315000  \n",
              "75%      59.287500  5.286450e+08     2.230000  \n",
              "max     147.820000  1.540000e+09    24.370000  \n",
              "std      41.383801  1.813578e+08     3.343638  "
            ],
            "text/html": [
              "\n",
              "  <div id=\"df-02c64a53-f0b5-4298-8cc0-fbe829759ab1\" class=\"colab-df-container\">\n",
              "    <div>\n",
              "<style scoped>\n",
              "    .dataframe tbody tr th:only-of-type {\n",
              "        vertical-align: middle;\n",
              "    }\n",
              "\n",
              "    .dataframe tbody tr th {\n",
              "        vertical-align: top;\n",
              "    }\n",
              "\n",
              "    .dataframe thead th {\n",
              "        text-align: right;\n",
              "    }\n",
              "</style>\n",
              "<table border=\"1\" class=\"dataframe\">\n",
              "  <thead>\n",
              "    <tr style=\"text-align: right;\">\n",
              "      <th></th>\n",
              "      <th>Date</th>\n",
              "      <th>Price</th>\n",
              "      <th>Open</th>\n",
              "      <th>High</th>\n",
              "      <th>Low</th>\n",
              "      <th>Vol.</th>\n",
              "      <th>Change %</th>\n",
              "    </tr>\n",
              "  </thead>\n",
              "  <tbody>\n",
              "    <tr>\n",
              "      <th>count</th>\n",
              "      <td>1256</td>\n",
              "      <td>1256.000000</td>\n",
              "      <td>1256.000000</td>\n",
              "      <td>1256.000000</td>\n",
              "      <td>1256.000000</td>\n",
              "      <td>1.256000e+03</td>\n",
              "      <td>1256.000000</td>\n",
              "    </tr>\n",
              "    <tr>\n",
              "      <th>mean</th>\n",
              "      <td>2022-10-23 00:12:36.687898112</td>\n",
              "      <td>45.598646</td>\n",
              "      <td>45.618065</td>\n",
              "      <td>46.479339</td>\n",
              "      <td>44.646385</td>\n",
              "      <td>4.312259e+08</td>\n",
              "      <td>0.269490</td>\n",
              "    </tr>\n",
              "    <tr>\n",
              "      <th>min</th>\n",
              "      <td>2020-04-27 00:00:00</td>\n",
              "      <td>7.070000</td>\n",
              "      <td>7.020000</td>\n",
              "      <td>7.220000</td>\n",
              "      <td>7.020000</td>\n",
              "      <td>9.788000e+07</td>\n",
              "      <td>-16.970000</td>\n",
              "    </tr>\n",
              "    <tr>\n",
              "      <th>25%</th>\n",
              "      <td>2021-07-25 06:00:00</td>\n",
              "      <td>15.005000</td>\n",
              "      <td>15.042500</td>\n",
              "      <td>15.312500</td>\n",
              "      <td>14.780000</td>\n",
              "      <td>2.964900e+08</td>\n",
              "      <td>-1.622500</td>\n",
              "    </tr>\n",
              "    <tr>\n",
              "      <th>50%</th>\n",
              "      <td>2022-10-20 12:00:00</td>\n",
              "      <td>23.730000</td>\n",
              "      <td>23.740000</td>\n",
              "      <td>24.270000</td>\n",
              "      <td>23.310000</td>\n",
              "      <td>4.096200e+08</td>\n",
              "      <td>0.315000</td>\n",
              "    </tr>\n",
              "    <tr>\n",
              "      <th>75%</th>\n",
              "      <td>2024-01-23 06:00:00</td>\n",
              "      <td>60.160000</td>\n",
              "      <td>60.112500</td>\n",
              "      <td>60.692500</td>\n",
              "      <td>59.287500</td>\n",
              "      <td>5.286450e+08</td>\n",
              "      <td>2.230000</td>\n",
              "    </tr>\n",
              "    <tr>\n",
              "      <th>max</th>\n",
              "      <td>2025-04-24 00:00:00</td>\n",
              "      <td>149.430000</td>\n",
              "      <td>153.030000</td>\n",
              "      <td>153.130000</td>\n",
              "      <td>147.820000</td>\n",
              "      <td>1.540000e+09</td>\n",
              "      <td>24.370000</td>\n",
              "    </tr>\n",
              "    <tr>\n",
              "      <th>std</th>\n",
              "      <td>NaN</td>\n",
              "      <td>42.266456</td>\n",
              "      <td>42.355580</td>\n",
              "      <td>43.118597</td>\n",
              "      <td>41.383801</td>\n",
              "      <td>1.813578e+08</td>\n",
              "      <td>3.343638</td>\n",
              "    </tr>\n",
              "  </tbody>\n",
              "</table>\n",
              "</div>\n",
              "    <div class=\"colab-df-buttons\">\n",
              "\n",
              "  <div class=\"colab-df-container\">\n",
              "    <button class=\"colab-df-convert\" onclick=\"convertToInteractive('df-02c64a53-f0b5-4298-8cc0-fbe829759ab1')\"\n",
              "            title=\"Convert this dataframe to an interactive table.\"\n",
              "            style=\"display:none;\">\n",
              "\n",
              "  <svg xmlns=\"http://www.w3.org/2000/svg\" height=\"24px\" viewBox=\"0 -960 960 960\">\n",
              "    <path d=\"M120-120v-720h720v720H120Zm60-500h600v-160H180v160Zm220 220h160v-160H400v160Zm0 220h160v-160H400v160ZM180-400h160v-160H180v160Zm440 0h160v-160H620v160ZM180-180h160v-160H180v160Zm440 0h160v-160H620v160Z\"/>\n",
              "  </svg>\n",
              "    </button>\n",
              "\n",
              "  <style>\n",
              "    .colab-df-container {\n",
              "      display:flex;\n",
              "      gap: 12px;\n",
              "    }\n",
              "\n",
              "    .colab-df-convert {\n",
              "      background-color: #E8F0FE;\n",
              "      border: none;\n",
              "      border-radius: 50%;\n",
              "      cursor: pointer;\n",
              "      display: none;\n",
              "      fill: #1967D2;\n",
              "      height: 32px;\n",
              "      padding: 0 0 0 0;\n",
              "      width: 32px;\n",
              "    }\n",
              "\n",
              "    .colab-df-convert:hover {\n",
              "      background-color: #E2EBFA;\n",
              "      box-shadow: 0px 1px 2px rgba(60, 64, 67, 0.3), 0px 1px 3px 1px rgba(60, 64, 67, 0.15);\n",
              "      fill: #174EA6;\n",
              "    }\n",
              "\n",
              "    .colab-df-buttons div {\n",
              "      margin-bottom: 4px;\n",
              "    }\n",
              "\n",
              "    [theme=dark] .colab-df-convert {\n",
              "      background-color: #3B4455;\n",
              "      fill: #D2E3FC;\n",
              "    }\n",
              "\n",
              "    [theme=dark] .colab-df-convert:hover {\n",
              "      background-color: #434B5C;\n",
              "      box-shadow: 0px 1px 3px 1px rgba(0, 0, 0, 0.15);\n",
              "      filter: drop-shadow(0px 1px 2px rgba(0, 0, 0, 0.3));\n",
              "      fill: #FFFFFF;\n",
              "    }\n",
              "  </style>\n",
              "\n",
              "    <script>\n",
              "      const buttonEl =\n",
              "        document.querySelector('#df-02c64a53-f0b5-4298-8cc0-fbe829759ab1 button.colab-df-convert');\n",
              "      buttonEl.style.display =\n",
              "        google.colab.kernel.accessAllowed ? 'block' : 'none';\n",
              "\n",
              "      async function convertToInteractive(key) {\n",
              "        const element = document.querySelector('#df-02c64a53-f0b5-4298-8cc0-fbe829759ab1');\n",
              "        const dataTable =\n",
              "          await google.colab.kernel.invokeFunction('convertToInteractive',\n",
              "                                                    [key], {});\n",
              "        if (!dataTable) return;\n",
              "\n",
              "        const docLinkHtml = 'Like what you see? Visit the ' +\n",
              "          '<a target=\"_blank\" href=https://colab.research.google.com/notebooks/data_table.ipynb>data table notebook</a>'\n",
              "          + ' to learn more about interactive tables.';\n",
              "        element.innerHTML = '';\n",
              "        dataTable['output_type'] = 'display_data';\n",
              "        await google.colab.output.renderOutput(dataTable, element);\n",
              "        const docLink = document.createElement('div');\n",
              "        docLink.innerHTML = docLinkHtml;\n",
              "        element.appendChild(docLink);\n",
              "      }\n",
              "    </script>\n",
              "  </div>\n",
              "\n",
              "\n",
              "    <div id=\"df-22a64274-fb93-42c7-9eea-4681221e2a99\">\n",
              "      <button class=\"colab-df-quickchart\" onclick=\"quickchart('df-22a64274-fb93-42c7-9eea-4681221e2a99')\"\n",
              "                title=\"Suggest charts\"\n",
              "                style=\"display:none;\">\n",
              "\n",
              "<svg xmlns=\"http://www.w3.org/2000/svg\" height=\"24px\"viewBox=\"0 0 24 24\"\n",
              "     width=\"24px\">\n",
              "    <g>\n",
              "        <path d=\"M19 3H5c-1.1 0-2 .9-2 2v14c0 1.1.9 2 2 2h14c1.1 0 2-.9 2-2V5c0-1.1-.9-2-2-2zM9 17H7v-7h2v7zm4 0h-2V7h2v10zm4 0h-2v-4h2v4z\"/>\n",
              "    </g>\n",
              "</svg>\n",
              "      </button>\n",
              "\n",
              "<style>\n",
              "  .colab-df-quickchart {\n",
              "      --bg-color: #E8F0FE;\n",
              "      --fill-color: #1967D2;\n",
              "      --hover-bg-color: #E2EBFA;\n",
              "      --hover-fill-color: #174EA6;\n",
              "      --disabled-fill-color: #AAA;\n",
              "      --disabled-bg-color: #DDD;\n",
              "  }\n",
              "\n",
              "  [theme=dark] .colab-df-quickchart {\n",
              "      --bg-color: #3B4455;\n",
              "      --fill-color: #D2E3FC;\n",
              "      --hover-bg-color: #434B5C;\n",
              "      --hover-fill-color: #FFFFFF;\n",
              "      --disabled-bg-color: #3B4455;\n",
              "      --disabled-fill-color: #666;\n",
              "  }\n",
              "\n",
              "  .colab-df-quickchart {\n",
              "    background-color: var(--bg-color);\n",
              "    border: none;\n",
              "    border-radius: 50%;\n",
              "    cursor: pointer;\n",
              "    display: none;\n",
              "    fill: var(--fill-color);\n",
              "    height: 32px;\n",
              "    padding: 0;\n",
              "    width: 32px;\n",
              "  }\n",
              "\n",
              "  .colab-df-quickchart:hover {\n",
              "    background-color: var(--hover-bg-color);\n",
              "    box-shadow: 0 1px 2px rgba(60, 64, 67, 0.3), 0 1px 3px 1px rgba(60, 64, 67, 0.15);\n",
              "    fill: var(--button-hover-fill-color);\n",
              "  }\n",
              "\n",
              "  .colab-df-quickchart-complete:disabled,\n",
              "  .colab-df-quickchart-complete:disabled:hover {\n",
              "    background-color: var(--disabled-bg-color);\n",
              "    fill: var(--disabled-fill-color);\n",
              "    box-shadow: none;\n",
              "  }\n",
              "\n",
              "  .colab-df-spinner {\n",
              "    border: 2px solid var(--fill-color);\n",
              "    border-color: transparent;\n",
              "    border-bottom-color: var(--fill-color);\n",
              "    animation:\n",
              "      spin 1s steps(1) infinite;\n",
              "  }\n",
              "\n",
              "  @keyframes spin {\n",
              "    0% {\n",
              "      border-color: transparent;\n",
              "      border-bottom-color: var(--fill-color);\n",
              "      border-left-color: var(--fill-color);\n",
              "    }\n",
              "    20% {\n",
              "      border-color: transparent;\n",
              "      border-left-color: var(--fill-color);\n",
              "      border-top-color: var(--fill-color);\n",
              "    }\n",
              "    30% {\n",
              "      border-color: transparent;\n",
              "      border-left-color: var(--fill-color);\n",
              "      border-top-color: var(--fill-color);\n",
              "      border-right-color: var(--fill-color);\n",
              "    }\n",
              "    40% {\n",
              "      border-color: transparent;\n",
              "      border-right-color: var(--fill-color);\n",
              "      border-top-color: var(--fill-color);\n",
              "    }\n",
              "    60% {\n",
              "      border-color: transparent;\n",
              "      border-right-color: var(--fill-color);\n",
              "    }\n",
              "    80% {\n",
              "      border-color: transparent;\n",
              "      border-right-color: var(--fill-color);\n",
              "      border-bottom-color: var(--fill-color);\n",
              "    }\n",
              "    90% {\n",
              "      border-color: transparent;\n",
              "      border-bottom-color: var(--fill-color);\n",
              "    }\n",
              "  }\n",
              "</style>\n",
              "\n",
              "      <script>\n",
              "        async function quickchart(key) {\n",
              "          const quickchartButtonEl =\n",
              "            document.querySelector('#' + key + ' button');\n",
              "          quickchartButtonEl.disabled = true;  // To prevent multiple clicks.\n",
              "          quickchartButtonEl.classList.add('colab-df-spinner');\n",
              "          try {\n",
              "            const charts = await google.colab.kernel.invokeFunction(\n",
              "                'suggestCharts', [key], {});\n",
              "          } catch (error) {\n",
              "            console.error('Error during call to suggestCharts:', error);\n",
              "          }\n",
              "          quickchartButtonEl.classList.remove('colab-df-spinner');\n",
              "          quickchartButtonEl.classList.add('colab-df-quickchart-complete');\n",
              "        }\n",
              "        (() => {\n",
              "          let quickchartButtonEl =\n",
              "            document.querySelector('#df-22a64274-fb93-42c7-9eea-4681221e2a99 button');\n",
              "          quickchartButtonEl.style.display =\n",
              "            google.colab.kernel.accessAllowed ? 'block' : 'none';\n",
              "        })();\n",
              "      </script>\n",
              "    </div>\n",
              "\n",
              "    </div>\n",
              "  </div>\n"
            ],
            "application/vnd.google.colaboratory.intrinsic+json": {
              "type": "dataframe",
              "summary": "{\n  \"name\": \"df\",\n  \"rows\": 8,\n  \"fields\": [\n    {\n      \"column\": \"Date\",\n      \"properties\": {\n        \"dtype\": \"date\",\n        \"min\": \"1970-01-01 00:00:00.000001256\",\n        \"max\": \"2025-04-24 00:00:00\",\n        \"num_unique_values\": 7,\n        \"samples\": [\n          \"1256\",\n          \"2022-10-23 00:12:36.687898112\",\n          \"2024-01-23 06:00:00\"\n        ],\n        \"semantic_type\": \"\",\n        \"description\": \"\"\n      }\n    },\n    {\n      \"column\": \"Price\",\n      \"properties\": {\n        \"dtype\": \"number\",\n        \"std\": 429.0328623136154,\n        \"min\": 7.07,\n        \"max\": 1256.0,\n        \"num_unique_values\": 8,\n        \"samples\": [\n          45.598646496815284,\n          60.16,\n          1256.0\n        ],\n        \"semantic_type\": \"\",\n        \"description\": \"\"\n      }\n    },\n    {\n      \"column\": \"Open\",\n      \"properties\": {\n        \"dtype\": \"number\",\n        \"std\": 428.97108104301117,\n        \"min\": 7.02,\n        \"max\": 1256.0,\n        \"num_unique_values\": 8,\n        \"samples\": [\n          45.6180652866242,\n          60.1125,\n          1256.0\n        ],\n        \"semantic_type\": \"\",\n        \"description\": \"\"\n      }\n    },\n    {\n      \"column\": \"High\",\n      \"properties\": {\n        \"dtype\": \"number\",\n        \"std\": 428.7972444017215,\n        \"min\": 7.22,\n        \"max\": 1256.0,\n        \"num_unique_values\": 8,\n        \"samples\": [\n          46.47933917197452,\n          60.692499999999995,\n          1256.0\n        ],\n        \"semantic_type\": \"\",\n        \"description\": \"\"\n      }\n    },\n    {\n      \"column\": \"Low\",\n      \"properties\": {\n        \"dtype\": \"number\",\n        \"std\": 429.23778841762396,\n        \"min\": 7.02,\n        \"max\": 1256.0,\n        \"num_unique_values\": 8,\n        \"samples\": [\n          44.64638535031847,\n          59.2875,\n          1256.0\n        ],\n        \"semantic_type\": \"\",\n        \"description\": \"\"\n      }\n    },\n    {\n      \"column\": \"Vol.\",\n      \"properties\": {\n        \"dtype\": \"number\",\n        \"std\": 480601194.93439484,\n        \"min\": 1256.0,\n        \"max\": 1540000000.0,\n        \"num_unique_values\": 8,\n        \"samples\": [\n          431225875.79617834,\n          528645000.00000006,\n          1256.0\n        ],\n        \"semantic_type\": \"\",\n        \"description\": \"\"\n      }\n    },\n    {\n      \"column\": \"Change %\",\n      \"properties\": {\n        \"dtype\": \"number\",\n        \"std\": 443.6020160027485,\n        \"min\": -16.97,\n        \"max\": 1256.0,\n        \"num_unique_values\": 8,\n        \"samples\": [\n          0.26949044585987264,\n          2.23,\n          1256.0\n        ],\n        \"semantic_type\": \"\",\n        \"description\": \"\"\n      }\n    }\n  ]\n}"
            }
          },
          "metadata": {},
          "execution_count": 9
        }
      ],
      "source": [
        "df.info()\n",
        "df.describe()"
      ]
    },
    {
      "cell_type": "code",
      "execution_count": null,
      "metadata": {
        "colab": {
          "base_uri": "https://localhost:8080/",
          "height": 471
        },
        "id": "gxwla1TgQnU0",
        "outputId": "6554e688-1f87-48c7-a230-f1c58044c729"
      },
      "outputs": [
        {
          "output_type": "display_data",
          "data": {
            "text/plain": [
              "<Figure size 1200x600 with 1 Axes>"
            ],
            "image/png": "[encoded data removed]"
          },
          "metadata": {}
        }
      ],
      "source": [
        "plt.figure(figsize=(12, 6))\n",
        "plt.plot(df['Date'], df['Price'])\n",
        "plt.title('Pergerakan Harga Saham NVIDIA')\n",
        "plt.xlabel('Tanggal')\n",
        "plt.ylabel('Harga')\n",
        "plt.grid(True)\n",
        "plt.show()"
      ]
    },
    {
      "cell_type": "markdown",
      "source": [
        "Visualisasi tren harga saham NVIDIA dari waktu ke waktu. Ini membantu mengamati pola musiman, lonjakan harga, atau tren jangka panjang."
      ],
      "metadata": {
        "id": "MRq6g7NBfZo5"
      }
    },
    {
      "cell_type": "code",
      "execution_count": null,
      "metadata": {
        "colab": {
          "base_uri": "https://localhost:8080/",
          "height": 545
        },
        "id": "xGR3HgNHsFO9",
        "outputId": "46fb5e44-7282-44f6-f423-388fd0f38184"
      },
      "outputs": [
        {
          "output_type": "display_data",
          "data": {
            "text/plain": [
              "<Figure size 1000x600 with 2 Axes>"
            ],
            "image/png": "[encoded data removed]"
          },
          "metadata": {}
        }
      ],
      "source": [
        "plt.figure(figsize=(10, 6))\n",
        "sns.heatmap(df.corr(numeric_only=True), annot=True, cmap='coolwarm')\n",
        "plt.title('Heatmap Korelasi')\n",
        "plt.show()"
      ]
    },
    {
      "cell_type": "markdown",
      "source": [
        "Heatmap korelasi antar fitur numerik untuk mengetahui hubungan antar variabel seperti Price, Open, High, Low, dan Vol. Korelasi tinggi dapat digunakan sebagai insight untuk pemodelan."
      ],
      "metadata": {
        "id": "SoythvJwfdbx"
      }
    },
    {
      "cell_type": "markdown",
      "source": [
        "## Modeling (KNN)"
      ],
      "metadata": {
        "id": "kqCnHfvZmA9U"
      }
    },
    {
      "cell_type": "code",
      "source": [
        "# Modeling KNN\n",
        "knn_model = KNeighborsRegressor(n_neighbors=5)\n",
        "knn_model.fit(X_knn_scaled, y_lr)\n",
        "y_pred_knn = knn_model.predict(X_knn_scaled)\n",
        "\n",
        "mae_knn = mean_absolute_error(y_lr, y_pred_knn)\n",
        "rmse_knn = mean_squared_error(y_lr, y_pred_knn)\n",
        "r2_knn = r2_score(y_lr, y_pred_knn)\n",
        "\n",
        "print(\"\\nKNN Regression Evaluation:\")\n",
        "print(\"MAE:\", mae_knn)\n",
        "print(\"RMSE:\", rmse_knn)\n",
        "print(\"R2 Score:\", r2_knn)"
      ],
      "metadata": {
        "colab": {
          "base_uri": "https://localhost:8080/"
        },
        "id": "68kzfrc6mD7O",
        "outputId": "4652996d-e8f9-4914-bd8d-9fd1054ab3a4"
      },
      "execution_count": null,
      "outputs": [
        {
          "output_type": "stream",
          "name": "stdout",
          "text": [
            "\n",
            "KNN Regression Evaluation:\n",
            "MAE: 0.6873136942675161\n",
            "RMSE: 1.2151901369426752\n",
            "R2 Score: 0.999319233037039\n"
          ]
        }
      ]
    },
    {
      "cell_type": "markdown",
      "source": [
        "KNeighborsRegressor(n_neighbors=5): Model KNN dibuat dengan parameter n_neighbors=5, yang berarti model akan menggunakan 5 tetangga terdekat untuk membuat prediksi harga saham."
      ],
      "metadata": {
        "id": "0sVbT1ZUo2pL"
      }
    },
    {
      "cell_type": "markdown",
      "metadata": {
        "id": "sZGPIEJ5QymJ"
      },
      "source": [
        "# Modeling (Linear Regression)"
      ]
    },
    {
      "cell_type": "code",
      "execution_count": null,
      "metadata": {
        "colab": {
          "base_uri": "https://localhost:8080/"
        },
        "id": "393opo_4Q5yd",
        "outputId": "d6e001a9-0a63-4cf7-9b86-e84f6f861538"
      },
      "outputs": [
        {
          "output_type": "stream",
          "name": "stdout",
          "text": [
            "Linear Regression Evaluation:\n",
            "MAE: 0.39375531464936464\n",
            "RMSE: 0.6989101754506425\n",
            "R2 Score: 0.9997263490484886\n"
          ]
        }
      ],
      "source": [
        "lr_model = LinearRegression()\n",
        "lr_model.fit(X_lr, y_lr)\n",
        "y_pred_lr = lr_model.predict(X_lr)\n",
        "\n",
        "mae_lr = mean_absolute_error(y_lr, y_pred_lr)\n",
        "rmse_lr = root_mean_squared_error(y_lr, y_pred_lr)\n",
        "r2_lr = r2_score(y_lr, y_pred_lr)\n",
        "\n",
        "print(\"Linear Regression Evaluation:\")\n",
        "print(\"MAE:\", mae_lr)\n",
        "print(\"RMSE:\", rmse_lr)\n",
        "print(\"R2 Score:\", r2_lr)"
      ]
    },
    {
      "cell_type": "markdown",
      "source": [
        "- LinearRegression() membuat objek model regresi linear dari library scikit-learn.\n",
        "\n",
        "- fit(X_lr, y_lr) melakukan pelatihan model dengan mempelajari hubungan antara fitur dan target berdasarkan data yang ada.\n",
        "\n",
        "- predict(X_lr) digunakan untuk menghasilkan prediksi harga saham berdasarkan model yang sudah dilatih."
      ],
      "metadata": {
        "id": "E_NfkS5IgFCp"
      }
    },
    {
      "cell_type": "markdown",
      "metadata": {
        "id": "fm3y5R-2RBAY"
      },
      "source": [
        "# Modeling: LSTM"
      ]
    },
    {
      "cell_type": "code",
      "source": [
        "price_data = df[['Price']]\n",
        "scaler = MinMaxScaler()\n",
        "price_scaled = scaler.fit_transform(price_data)"
      ],
      "metadata": {
        "id": "byqwC_rZaLOq"
      },
      "execution_count": null,
      "outputs": []
    },
    {
      "cell_type": "markdown",
      "source": [
        "- Kolom Price yang digunakan untuk pelatihan model LSTM.\n",
        "- MinMaxScaler digunakan untuk menormalkan data harga agar berada dalam rentang 0–1, yang penting untuk mempercepat dan menstabilkan proses pelatihan neural network seperti LSTM."
      ],
      "metadata": {
        "id": "9WiGD8yvhKrI"
      }
    },
    {
      "cell_type": "markdown",
      "source": [
        "Membuat Data Window Time Series"
      ],
      "metadata": {
        "id": "sFqfUL5ZhR3Y"
      }
    },
    {
      "cell_type": "code",
      "source": [
        "def create_dataset(dataset, time_step=60):\n",
        "    X, y = [], []\n",
        "    for i in range(len(dataset)-time_step-1):\n",
        "        X.append(dataset[i:(i+time_step), 0])\n",
        "        y.append(dataset[i+time_step, 0])\n",
        "    return np.array(X), np.array(y)\n",
        "\n",
        "time_step = 60\n",
        "X_lstm, y_lstm = create_dataset(price_scaled, time_step)\n",
        "X_lstm = X_lstm.reshape(X_lstm.shape[0], X_lstm.shape[1], 1)"
      ],
      "metadata": {
        "id": "w_akrETmaOBG"
      },
      "execution_count": null,
      "outputs": []
    },
    {
      "cell_type": "code",
      "execution_count": null,
      "metadata": {
        "colab": {
          "base_uri": "https://localhost:8080/"
        },
        "id": "RrySv8tsRJtN",
        "outputId": "716737b9-d044-48ed-c9b1-0e01cf6b5e1b"
      },
      "outputs": [
        {
          "output_type": "stream",
          "name": "stderr",
          "text": [
            "/usr/local/lib/python3.11/dist-packages/keras/src/layers/rnn/rnn.py:200: UserWarning: Do not pass an `input_shape`/`input_dim` argument to a layer. When using Sequential models, prefer using an `Input(shape)` object as the first layer in the model instead.\n",
            "  super().__init__(**kwargs)\n"
          ]
        }
      ],
      "source": [
        "# Model LSTM\n",
        "lstm_model = Sequential()\n",
        "lstm_model.add(LSTM(50, return_sequences=True, input_shape=(time_step, 1)))\n",
        "lstm_model.add(LSTM(50))\n",
        "lstm_model.add(Dense(1))\n",
        "lstm_model.compile(loss='mean_squared_error', optimizer='adam')"
      ]
    },
    {
      "cell_type": "markdown",
      "source": [
        "- Model menggunakan dua lapisan LSTM masing-masing dengan 50 unit: return_sequences=True artinya LSTM pertama mengembalikan seluruh urutan untuk layer LSTM kedua.\n",
        "- Dense(1) digunakan untuk memprediksi satu nilai harga saham.\n",
        "- Model dikompilasi dengan:\n",
        "  - Loss function: mean_squared_error\n",
        "  - Optimizer: adam untuk pelatihan yang efisien dan stabil."
      ],
      "metadata": {
        "id": "iRcR2MoDhm6z"
      }
    },
    {
      "cell_type": "code",
      "source": [
        "# Training\n",
        "lstm_model.fit(X_lstm, y_lstm, epochs=10, batch_size=32, verbose=1)"
      ],
      "metadata": {
        "colab": {
          "base_uri": "https://localhost:8080/"
        },
        "id": "bQc6KaY6aXBh",
        "outputId": "1324fd12-63a9-4fac-ecec-966c97498e61"
      },
      "execution_count": null,
      "outputs": [
        {
          "output_type": "stream",
          "name": "stdout",
          "text": [
            "Epoch 1/10\n",
            "\u001b[1m38/38\u001b[0m \u001b[32m━━━━━━━━━━━━━━━━━━━━\u001b[0m\u001b[37m\u001b[0m \u001b[1m10s\u001b[0m 76ms/step - loss: 0.0323\n",
            "Epoch 2/10\n",
            "\u001b[1m38/38\u001b[0m \u001b[32m━━━━━━━━━━━━━━━━━━━━\u001b[0m\u001b[37m\u001b[0m \u001b[1m5s\u001b[0m 135ms/step - loss: 0.0011\n",
            "Epoch 3/10\n",
            "\u001b[1m38/38\u001b[0m \u001b[32m━━━━━━━━━━━━━━━━━━━━\u001b[0m\u001b[37m\u001b[0m \u001b[1m4s\u001b[0m 97ms/step - loss: 9.0367e-04\n",
            "Epoch 4/10\n",
            "\u001b[1m38/38\u001b[0m \u001b[32m━━━━━━━━━━━━━━━━━━━━\u001b[0m\u001b[37m\u001b[0m \u001b[1m5s\u001b[0m 91ms/step - loss: 9.0892e-04\n",
            "Epoch 5/10\n",
            "\u001b[1m38/38\u001b[0m \u001b[32m━━━━━━━━━━━━━━━━━━━━\u001b[0m\u001b[37m\u001b[0m \u001b[1m4s\u001b[0m 75ms/step - loss: 8.2627e-04\n",
            "Epoch 6/10\n",
            "\u001b[1m38/38\u001b[0m \u001b[32m━━━━━━━━━━━━━━━━━━━━\u001b[0m\u001b[37m\u001b[0m \u001b[1m3s\u001b[0m 87ms/step - loss: 8.8099e-04\n",
            "Epoch 7/10\n",
            "\u001b[1m38/38\u001b[0m \u001b[32m━━━━━━━━━━━━━━━━━━━━\u001b[0m\u001b[37m\u001b[0m \u001b[1m3s\u001b[0m 74ms/step - loss: 7.4016e-04\n",
            "Epoch 8/10\n",
            "\u001b[1m38/38\u001b[0m \u001b[32m━━━━━━━━━━━━━━━━━━━━\u001b[0m\u001b[37m\u001b[0m \u001b[1m2s\u001b[0m 63ms/step - loss: 8.1686e-04\n",
            "Epoch 9/10\n",
            "\u001b[1m38/38\u001b[0m \u001b[32m━━━━━━━━━━━━━━━━━━━━\u001b[0m\u001b[37m\u001b[0m \u001b[1m2s\u001b[0m 62ms/step - loss: 6.8022e-04\n",
            "Epoch 10/10\n",
            "\u001b[1m38/38\u001b[0m \u001b[32m━━━━━━━━━━━━━━━━━━━━\u001b[0m\u001b[37m\u001b[0m \u001b[1m3s\u001b[0m 79ms/step - loss: 6.4364e-04\n"
          ]
        },
        {
          "output_type": "execute_result",
          "data": {
            "text/plain": [
              "<keras.src.callbacks.history.History at 0x7ea159e58890>"
            ]
          },
          "metadata": {},
          "execution_count": 18
        }
      ]
    },
    {
      "cell_type": "markdown",
      "source": [
        "Model dilatih selama 10 epoch dengan ukuran batch 32."
      ],
      "metadata": {
        "id": "m0FbIDsEh1S0"
      }
    },
    {
      "cell_type": "code",
      "source": [
        "# Prediction & Evaluation\n",
        "y_pred_lstm = lstm_model.predict(X_lstm)\n",
        "y_pred_lstm_inv = scaler.inverse_transform(y_pred_lstm.reshape(-1, 1))\n",
        "y_lstm_inv = scaler.inverse_transform(y_lstm.reshape(-1, 1))\n",
        "\n",
        "mae_lstm = mean_absolute_error(y_lstm_inv, y_pred_lstm_inv)\n",
        "rmse_lstm = root_mean_squared_error(y_lstm_inv, y_pred_lstm_inv)\n",
        "r2_lstm = r2_score(y_lstm_inv, y_pred_lstm_inv)\n",
        "\n",
        "print(\"\\nLSTM Model Evaluation:\")\n",
        "print(\"MAE:\", mae_lstm)\n",
        "print(\"RMSE:\", rmse_lstm)\n",
        "print(\"R2 Score:\", r2_lstm)"
      ],
      "metadata": {
        "colab": {
          "base_uri": "https://localhost:8080/"
        },
        "id": "EmH0ABc3abg5",
        "outputId": "6d600099-4da0-4426-eaf1-5142c8da5db9"
      },
      "execution_count": null,
      "outputs": [
        {
          "output_type": "stream",
          "name": "stdout",
          "text": [
            "\u001b[1m38/38\u001b[0m \u001b[32m━━━━━━━━━━━━━━━━━━━━\u001b[0m\u001b[37m\u001b[0m \u001b[1m1s\u001b[0m 30ms/step\n",
            "\n",
            "LSTM Model Evaluation:\n",
            "MAE: 2.4101982121487544\n",
            "RMSE: 4.126821935681614\n",
            "R2 Score: 0.9893393471433133\n"
          ]
        }
      ]
    },
    {
      "cell_type": "markdown",
      "source": [
        "Model memprediksi harga berdasarkan input time-series."
      ],
      "metadata": {
        "id": "XLQbEAMtk_fa"
      }
    },
    {
      "cell_type": "markdown",
      "source": [
        "## Visualisasi"
      ],
      "metadata": {
        "id": "1717dyJZkQOQ"
      }
    },
    {
      "cell_type": "code",
      "source": [
        "#Visualisasi MAE\n",
        "plt.figure(figsize=(8, 3))\n",
        "models = ['KNN', 'Linear Regression', 'LSTM']\n",
        "mae_values = [mae_knn, mae_lr, mae_lstm]\n",
        "\n",
        "plt.barh(models, mae_values, color=['skyblue', 'salmon', 'lightgreen'])\n",
        "plt.xlabel('MAE')\n",
        "plt.title('Perbandingan MAE')\n",
        "plt.grid(axis='x', linestyle='--', alpha=0.7)\n",
        "plt.tight_layout()\n",
        "plt.show()\n"
      ],
      "metadata": {
        "colab": {
          "base_uri": "https://localhost:8080/",
          "height": 307
        },
        "id": "Hnwc8Mrbadl-",
        "outputId": "f06c4ae4-f0b7-42fe-b782-90dc0a3b2a49"
      },
      "execution_count": null,
      "outputs": [
        {
          "output_type": "display_data",
          "data": {
            "text/plain": [
              "<Figure size 800x300 with 1 Axes>"
            ],
            "image/png": "[encoded data removed]"
          },
          "metadata": {}
        }
      ]
    },
    {
      "cell_type": "markdown",
      "source": [
        "Linear Regression memiliki MAE yang jauh lebih kecil dibanding KNN dan LSTM, artinya secara umum model ini membuat kesalahan prediksi yang lebih kecil rata-ratanya dibanding KNN dan LSTM."
      ],
      "metadata": {
        "id": "INfX5A9GlEQa"
      }
    },
    {
      "cell_type": "code",
      "source": [
        "#Visualisasi RMSE\n",
        "plt.figure(figsize=(8, 3))\n",
        "rmse_values = [rmse_knn, rmse_lr, rmse_lstm]\n",
        "\n",
        "plt.barh(models, rmse_values, color=['skyblue', 'salmon', 'lightgreen'])\n",
        "plt.xlabel('RMSE')\n",
        "plt.title('Perbandingan RMSE')\n",
        "plt.grid(axis='x', linestyle='--', alpha=0.7)\n",
        "plt.tight_layout()\n",
        "plt.show()"
      ],
      "metadata": {
        "colab": {
          "base_uri": "https://localhost:8080/",
          "height": 307
        },
        "id": "_KSrENAYkAhc",
        "outputId": "f40a4feb-22c9-40e3-dade-1fcc0118183b"
      },
      "execution_count": null,
      "outputs": [
        {
          "output_type": "display_data",
          "data": {
            "text/plain": [
              "<Figure size 800x300 with 1 Axes>"
            ],
            "image/png": "[encoded data removed]"
          },
          "metadata": {}
        }
      ]
    },
    {
      "cell_type": "markdown",
      "source": [
        "Linear Regression kembali unggul, dengan nilai RMSE yang jauh lebih kecil. Ini menunjukkan bahwa prediksi Linear Regression tidak hanya rata-rata lebih akurat (MAE), tapi juga lebih stabil terhadap outlier."
      ],
      "metadata": {
        "id": "OFqXtpRYlLwg"
      }
    },
    {
      "cell_type": "code",
      "source": [
        "#Visualisasi R2 Score\n",
        "plt.figure(figsize=(8, 3))\n",
        "r2_values = [r2_knn, r2_lr, r2_lstm]\n",
        "\n",
        "plt.barh(models, r2_values, color=['skyblue', 'salmon', 'lightgreen'])\n",
        "plt.xlabel('R² Score')\n",
        "plt.title('Perbandingan R² Score')\n",
        "plt.grid(axis='x', linestyle='--', alpha=0.7)\n",
        "plt.tight_layout()\n",
        "plt.show()"
      ],
      "metadata": {
        "colab": {
          "base_uri": "https://localhost:8080/",
          "height": 307
        },
        "id": "7v81LT-GkDzU",
        "outputId": "445fbf77-c63b-4b2b-a073-acb1fe6f9663"
      },
      "execution_count": null,
      "outputs": [
        {
          "output_type": "display_data",
          "data": {
            "text/plain": [
              "<Figure size 800x300 with 1 Axes>"
            ],
            "image/png": "[encoded data removed]"
          },
          "metadata": {}
        }
      ]
    },
    {
      "cell_type": "markdown",
      "source": [
        "Ketiga model memiliki R² Score yang sangat tinggi, menunjukkan keduanya sangat mampu memodelkan hubungan dalam data. Namun Linear Regression sedikit lebih unggul dengan nilai hampir sempurna (0.9997)."
      ],
      "metadata": {
        "id": "og6CgnY5lP4q"
      }
    }
  ],
  "metadata": {
    "colab": {
      "provenance": []
    },
    "kernelspec": {
      "display_name": "Python 3",
      "name": "python3"
    },
    "language_info": {
      "name": "python"
    }
  },
  "nbformat": 4,
  "nbformat_minor": 0
}